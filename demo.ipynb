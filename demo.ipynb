{
  "nbformat": 4,
  "nbformat_minor": 0,
  "metadata": {
    "colab": {
      "provenance": [],
      "authorship_tag": "ABX9TyOxDu/PUhLoRm+WlfzeJWhA",
      "include_colab_link": true
    },
    "kernelspec": {
      "name": "python3",
      "display_name": "Python 3"
    },
    "language_info": {
      "name": "python"
    }
  },
  "cells": [
    {
      "cell_type": "markdown",
      "metadata": {
        "id": "view-in-github",
        "colab_type": "text"
      },
      "source": [
        "<a href=\"https://colab.research.google.com/github/AlaFalaki/SumEvaluator/blob/main/demo.ipynb\" target=\"_parent\"><img src=\"https://colab.research.google.com/assets/colab-badge.svg\" alt=\"Open In Colab\"/></a>"
      ]
    },
    {
      "cell_type": "markdown",
      "source": [
        "# Download the Package and install it"
      ],
      "metadata": {
        "id": "a0kXLnMFv5M_"
      }
    },
    {
      "cell_type": "code",
      "execution_count": 1,
      "metadata": {
        "colab": {
          "base_uri": "https://localhost:8080/"
        },
        "id": "WyU9mDjTvcMI",
        "outputId": "9c23e72f-006f-4ca1-9d19-9ade25a5702e"
      },
      "outputs": [
        {
          "output_type": "stream",
          "name": "stdout",
          "text": [
            "  Preparing metadata (setup.py) ... \u001b[?25l\u001b[?25hdone\n",
            "\u001b[2K     \u001b[90m━━━━━━━━━━━━━━━━━━━━━━━━━━━━━━━━━━━━━━━━\u001b[0m \u001b[32m86.0/86.0 kB\u001b[0m \u001b[31m607.4 kB/s\u001b[0m eta \u001b[36m0:00:00\u001b[0m\n",
            "\u001b[?25h  Preparing metadata (setup.py) ... \u001b[?25l\u001b[?25hdone\n",
            "\u001b[2K     \u001b[90m━━━━━━━━━━━━━━━━━━━━━━━━━━━━━━━━━━━━━━━━\u001b[0m \u001b[32m76.5/76.5 kB\u001b[0m \u001b[31m3.6 MB/s\u001b[0m eta \u001b[36m0:00:00\u001b[0m\n",
            "\u001b[2K     \u001b[90m━━━━━━━━━━━━━━━━━━━━━━━━━━━━━━━━━━━━━━━━\u001b[0m \u001b[32m1.3/1.3 MB\u001b[0m \u001b[31m19.1 MB/s\u001b[0m eta \u001b[36m0:00:00\u001b[0m\n",
            "\u001b[?25h  Building wheel for SumEvaluator (setup.py) ... \u001b[?25l\u001b[?25hdone\n",
            "  Building wheel for sentence_transformers (setup.py) ... \u001b[?25l\u001b[?25hdone\n",
            "\u001b[31mERROR: pip's dependency resolver does not currently take into account all the packages that are installed. This behaviour is the source of the following dependency conflicts.\n",
            "llmx 0.0.15a0 requires cohere, which is not installed.\n",
            "llmx 0.0.15a0 requires tiktoken, which is not installed.\u001b[0m\u001b[31m\n",
            "\u001b[0m"
          ]
        }
      ],
      "source": [
        "!pip install -q git+https://github.com/AlaFalaki/SumEvaluator.git"
      ]
    },
    {
      "cell_type": "code",
      "source": [
        "import nltk\n",
        "nltk.download('punkt')"
      ],
      "metadata": {
        "colab": {
          "base_uri": "https://localhost:8080/"
        },
        "id": "wG_CLnyO7cv8",
        "outputId": "a6147830-50d9-4751-d652-261913047559"
      },
      "execution_count": 2,
      "outputs": [
        {
          "output_type": "stream",
          "name": "stderr",
          "text": [
            "[nltk_data] Downloading package punkt to /root/nltk_data...\n",
            "[nltk_data]   Unzipping tokenizers/punkt.zip.\n"
          ]
        },
        {
          "output_type": "execute_result",
          "data": {
            "text/plain": [
              "True"
            ]
          },
          "metadata": {},
          "execution_count": 2
        }
      ]
    },
    {
      "cell_type": "code",
      "source": [
        "import SumEvaluator"
      ],
      "metadata": {
        "id": "OvrQmrrmzNBE"
      },
      "execution_count": 3,
      "outputs": []
    },
    {
      "cell_type": "code",
      "source": [
        "ARTICLE = \"\"\"New York CNN  —  Some Verizon customers might have found an unexpected surprise in the mail this week: An opportunity to receive a refund as part of a proposed $100 million settlement from a class-action lawsuit. Eligible customers are receiving postcards or emails alerting them to file a claim by April 15 to receive up to $100, which is the result of the lawsuit accusing Verizon of charging fees that were “unfair and not adequately disclosed.” At issue is Verizon’s “administrative charge,” which the plaintiffs said were “misleading” because that fee wasn’t disclosed in their plan’s advertised monthly price and were charged in a “deceptive and unfair manner.” Verizon has denied the claims and said in a statement that it “clearly identifies and describes its wireless consumer admin charge multiple times during the sales transaction, as well as in its marketing, contracts and billing.” A company spokesperson said that the charge “helps our company recover certain regulatory compliance and network related costs.” The settlement was a culmination of four different lawsuits brought together in a New Jersey court, that same state where Verizon is headquartered. It was approved in December but still needs a “fairness hearing” scheduled for March. So-called “junk fees” are not only derided by consumers but have also attracted the ire of the Biden administration. Last October, the Federal Trade Commission unveiled a proposed rule that would ban businesses from charging hidden or misleading fees and require companies to show full prices upfront. How to apply To apply, a special website has been launched to fill out a form with the required information, including the phone number attached to the Verizon account and an option on how to receive the money, such as a check, Venmo or bank wire. The payout is at least $15 and might be more depending on how long the customer used Verizon and the number of customers who file a claim. A claim must be filed to receive the payout and only customers with postpaid wireless accounts or data plans from January 1, 2016, to November 8, 2023, are eligible. Customers who don’t file a claim “will give up any right you may have to sue Verizon about the issues in this lawsuit,” the website said.\"\"\"\n",
        "SUMMARY = \"\"\"Verizon is offering refunds to eligible customers as part of a $100 million class-action settlement over undisclosed fees. Customers must file a claim by April 15 to potentially receive up to $100. The settlement addresses complaints about Verizon's \"administrative charges\" not being clearly disclosed in plan pricing.\"\"\""
      ],
      "metadata": {
        "id": "OiJBqOmZyn-Q"
      },
      "execution_count": 4,
      "outputs": []
    },
    {
      "cell_type": "markdown",
      "source": [
        "# Novelty"
      ],
      "metadata": {
        "id": "CWlB3F84v8ke"
      }
    },
    {
      "cell_type": "code",
      "source": [
        "SumEvaluator.novelty.calculate(articles=[ARTICLE],\n",
        "                               summaries=[SUMMARY],\n",
        "                               ngrams=[1, 2])"
      ],
      "metadata": {
        "colab": {
          "base_uri": "https://localhost:8080/"
        },
        "id": "9O6oDIQHv2RB",
        "outputId": "8567d6e5-9e43-4b74-8471-9a3923243470"
      },
      "execution_count": null,
      "outputs": [
        {
          "output_type": "execute_result",
          "data": {
            "text/plain": [
              "{'unigram': 0.23809523809523808, 'bigram': 0.5833333333333334}"
            ]
          },
          "metadata": {},
          "execution_count": 4
        }
      ]
    },
    {
      "cell_type": "markdown",
      "source": [
        "# Length"
      ],
      "metadata": {
        "id": "AKcieNgZv-j0"
      }
    },
    {
      "cell_type": "code",
      "source": [
        "SumEvaluator.length.calculate([ARTICLE], [SUMMARY])"
      ],
      "metadata": {
        "colab": {
          "base_uri": "https://localhost:8080/"
        },
        "id": "tN3P6QSkv-Y4",
        "outputId": "f08b1347-c704-4ef6-86a8-3b82f35cd9d3"
      },
      "execution_count": null,
      "outputs": [
        {
          "output_type": "execute_result",
          "data": {
            "text/plain": [
              "{'average_summary_length': 379.0,\n",
              " 'average_article_summary_ratio': 0.12928759894459102}"
            ]
          },
          "metadata": {},
          "execution_count": 5
        }
      ]
    },
    {
      "cell_type": "markdown",
      "source": [
        "# GPT"
      ],
      "metadata": {
        "id": "xsTNNLeUwBXi"
      }
    },
    {
      "cell_type": "code",
      "source": [
        "SumEvaluator.gpt.calculate([ARTICLE], [SUMMARY], api_key=\"<OPENAI_API_KEY>\")"
      ],
      "metadata": {
        "colab": {
          "base_uri": "https://localhost:8080/"
        },
        "id": "g0Mr9j8Lv-TJ",
        "outputId": "2c92499a-a772-4742-9f33-9a5c3e4d0cc1"
      },
      "execution_count": 5,
      "outputs": [
        {
          "output_type": "execute_result",
          "data": {
            "text/plain": [
              "{'relevance': 9.0, 'consistency': 9.0, 'fluency': 10.0, 'coherence': 9.0}"
            ]
          },
          "metadata": {},
          "execution_count": 5
        }
      ]
    },
    {
      "cell_type": "markdown",
      "source": [
        "# Focus"
      ],
      "metadata": {
        "id": "CUHDRrMxwADY"
      }
    },
    {
      "cell_type": "code",
      "source": [
        "SumEvaluator.focus.prepare([ARTICLE], [SUMMARY], \"test_proj\")"
      ],
      "metadata": {
        "id": "MY4W923Av-Vf"
      },
      "execution_count": null,
      "outputs": []
    },
    {
      "cell_type": "code",
      "source": [
        "SumEvaluator.focus.illustrate(\"test_proj\")"
      ],
      "metadata": {
        "colab": {
          "base_uri": "https://localhost:8080/",
          "height": 132
        },
        "id": "FiWkK3Uxv-Qg",
        "outputId": "18a863c8-1745-46d9-d212-d03ec2c898c0"
      },
      "execution_count": null,
      "outputs": [
        {
          "output_type": "display_data",
          "data": {
            "text/plain": [
              "<IPython.core.display.HTML object>"
            ],
            "text/html": [
              "<br /><div><div style='padding:2px; border:2px solid #f80000; display: inline-block;'>25% of article samples have 9 sentences</div> <div style='padding:2px; border:2px solid #f800e3; display: inline-block'>50% of article samples have 9 sentences</div> <div style='padding:2px; border:2px solid #ffa400; display: inline-block'>75% of article samples have 9 sentences</div></div><br /> <div style=\"line-height: 2.6rem;\"><div title=\"82%\" style=\"background-color: rgba(0, 153, 0, 0.82); border: 0px solid #FFF; margin-left:2px; padding:2px; margin-bottom:5px; display: inline-block;\">Sentence-#1</div> <div title=\"74%\" style=\"background-color: rgba(0, 153, 0, 0.74); border: 0px solid #FFF; margin-left:2px; padding:2px; margin-bottom:5px; display: inline-block;\">Sentence-#2</div> <div title=\"25%\" style=\"background-color: rgba(0, 153, 0, 0.25); border: 0px solid #FFF; margin-left:2px; padding:2px; margin-bottom:5px; display: inline-block;\">Sentence-#3</div> <div title=\"31%\" style=\"background-color: rgba(0, 153, 0, 0.31); border: 0px solid #FFF; margin-left:2px; padding:2px; margin-bottom:5px; display: inline-block;\">Sentence-#4</div> <div title=\"32%\" style=\"background-color: rgba(0, 153, 0, 0.32); border: 0px solid #FFF; margin-left:2px; padding:2px; margin-bottom:5px; display: inline-block;\">Sentence-#5</div> <div title=\"33%\" style=\"background-color: rgba(0, 153, 0, 0.33); border: 0px solid #FFF; margin-left:2px; padding:2px; margin-bottom:5px; display: inline-block;\">Sentence-#6</div> <div title=\"66%\" style=\"background-color: rgba(0, 153, 0, 0.66); border: 0px solid #FFF; margin-left:2px; padding:2px; margin-bottom:5px; display: inline-block;\">Sentence-#7</div> <div title=\"29%\" style=\"background-color: rgba(0, 153, 0, 0.29); border: 0px solid #FFF; margin-left:2px; padding:2px; margin-bottom:5px; display: inline-block;\">Sentence-#8</div> <div title=\"60%\" style=\"background-color: rgba(0, 153, 0, 0.6); border: 2px solid #ffa400; margin-left:2px; padding:2px; margin-bottom:5px; display: inline-block;\">Sentence-#9</div> </div>"
            ]
          },
          "metadata": {}
        }
      ]
    }
  ]
}